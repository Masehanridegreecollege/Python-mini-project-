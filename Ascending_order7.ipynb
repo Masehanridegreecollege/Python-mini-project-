{
  "nbformat": 4,
  "nbformat_minor": 0,
  "metadata": {
    "colab": {
      "provenance": [],
      "authorship_tag": "ABX9TyN9WDjqJiMyS195YWhWPcP0",
      "include_colab_link": true
    },
    "kernelspec": {
      "name": "python3",
      "display_name": "Python 3"
    },
    "language_info": {
      "name": "python"
    }
  },
  "cells": [
    {
      "cell_type": "markdown",
      "metadata": {
        "id": "view-in-github",
        "colab_type": "text"
      },
      "source": [
        "<a href=\"https://colab.research.google.com/github/Masehanridegreecollege/Python-mini-project-/blob/main/Ascending_order7.ipynb\" target=\"_parent\"><img src=\"https://colab.research.google.com/assets/colab-badge.svg\" alt=\"Open In Colab\"/></a>"
      ]
    },
    {
      "cell_type": "code",
      "execution_count": null,
      "metadata": {
        "colab": {
          "base_uri": "https://localhost:8080/",
          "height": 141
        },
        "id": "-WYCzJCH4IqG",
        "outputId": "cfa673c2-bee3-4a5a-886a-b4a91285fdd6"
      },
      "outputs": [
        {
          "output_type": "error",
          "ename": "IndentationError",
          "evalue": "unexpected indent (<ipython-input-5-632a6aa48ff7>, line 6)",
          "traceback": [
            "\u001b[0;36m  File \u001b[0;32m\"<ipython-input-5-632a6aa48ff7>\"\u001b[0;36m, line \u001b[0;32m6\u001b[0m\n\u001b[0;31m    if-<= minval:\u001b[0m\n\u001b[0m    ^\u001b[0m\n\u001b[0;31mIndentationError\u001b[0m\u001b[0;31m:\u001b[0m unexpected indent\n"
          ]
        }
      ],
      "source": [
        "L1 = [2,8,7,3]\n",
        "L2 = []\n",
        "def mini (list):\n",
        "    minval=list[0]\n",
        "    for_ in list\n",
        "       if-<= minval:\n",
        "           minval=_\n",
        "\n",
        "list.remove (minval)\n",
        "L2 .append(minval)"
      ]
    },
    {
      "cell_type": "code",
      "source": [
        "L1=[0,1,6,3,10,4]\n",
        "def mini(list):\n",
        "    minval=list[0]\n",
        "    for _ in list:\n",
        "     if_<= minval\n",
        "     minval=_\n",
        "     return minval\n",
        "    mini(list)"
      ],
      "metadata": {
        "id": "2XwUH2nt9No_"
      },
      "execution_count": 30,
      "outputs": []
    },
    {
      "cell_type": "code",
      "source": [
        "# Define a list\n",
        "my_list = [87,98,5,70,34,44,14,65,168,0,56]\n",
        "\n",
        "# Initialize an empty list to store the sorted elements\n",
        "sorted_list = []\n",
        "\n",
        "# Make a copy of the original list\n",
        "temp_list = my_list.copy()\n",
        "\n",
        "#Iterate over the original list\n",
        "for i in range(len(my_list)):\n",
        "    # Find the minimum value in the temporary list\n",
        "    min_val = min(temp_list)\n",
        "\n",
        "    # Append the minimum value to the sorted list\n",
        "    sorted_list.append(min_val)\n",
        "\n",
        "    # Remove the minimum value from the temporary list\n",
        "    temp_list.remove(min_val)\n",
        "\n",
        "# Print the sorted list\n",
        "print(sorted_list)"
      ],
      "metadata": {
        "colab": {
          "base_uri": "https://localhost:8080/"
        },
        "id": "_nHcz17bGOUD",
        "outputId": "4305ce71-7748-4a3d-8d38-687c04237bb1"
      },
      "execution_count": 31,
      "outputs": [
        {
          "output_type": "stream",
          "name": "stdout",
          "text": [
            "[0, 5, 14, 34, 44, 56, 65, 70, 87, 98, 168]\n"
          ]
        }
      ]
    },
    {
      "cell_type": "code",
      "source": [],
      "metadata": {
        "id": "hH1P-9X68hpn"
      },
      "execution_count": null,
      "outputs": []
    }
  ]
}