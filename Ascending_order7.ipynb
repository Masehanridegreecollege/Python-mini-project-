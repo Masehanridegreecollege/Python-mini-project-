{
  "nbformat": 4,
  "nbformat_minor": 0,
  "metadata": {
    "colab": {
      "provenance": [],
      "authorship_tag": "ABX9TyNmki0FGb3GGWPdIbiI70Ut",
      "include_colab_link": true
    },
    "kernelspec": {
      "name": "python3",
      "display_name": "Python 3"
    },
    "language_info": {
      "name": "python"
    }
  },
  "cells": [
    {
      "cell_type": "markdown",
      "metadata": {
        "id": "view-in-github",
        "colab_type": "text"
      },
      "source": [
        "<a href=\"https://colab.research.google.com/github/Masehanridegreecollege/Python-mini-project-/blob/main/Ascending_order7.ipynb\" target=\"_parent\"><img src=\"https://colab.research.google.com/assets/colab-badge.svg\" alt=\"Open In Colab\"/></a>"
      ]
    },
    {
      "cell_type": "code",
      "source": [
        "# Define a list\n",
        "my_list = [87,98,5,70,34,44,14,65,168,0,56]\n",
        "\n",
        "# Initialize an empty list to store the sorted elements\n",
        "sorted_list = []\n",
        "\n",
        "# Make a copy of the original list\n",
        "temp_list = my_list.copy()\n",
        "\n",
        "#Iterate over the original list\n",
        "for i in range(len(my_list)):\n",
        "    # Find the minimum value in the temporary list\n",
        "    min_val = min(temp_list)\n",
        "\n",
        "    # Append the minimum value to the sorted list\n",
        "    sorted_list.append(min_val)\n",
        "\n",
        "    # Remove the minimum value from the temporary list\n",
        "    temp_list.remove(min_val)\n",
        "\n",
        "# Print the sorted list\n",
        "print(sorted_list)"
      ],
      "metadata": {
        "colab": {
          "base_uri": "https://localhost:8080/"
        },
        "id": "_nHcz17bGOUD",
        "outputId": "e3e750ac-a7df-448b-e6d0-a727439b71b8"
      },
      "execution_count": null,
      "outputs": [
        {
          "output_type": "stream",
          "name": "stdout",
          "text": [
            "[0, 5, 14, 34, 44, 56, 65, 70, 87, 98, 168]\n"
          ]
        }
      ]
    },
    {
      "cell_type": "code",
      "source": [],
      "metadata": {
        "id": "hH1P-9X68hpn"
      },
      "execution_count": null,
      "outputs": []
    }
  ]
}