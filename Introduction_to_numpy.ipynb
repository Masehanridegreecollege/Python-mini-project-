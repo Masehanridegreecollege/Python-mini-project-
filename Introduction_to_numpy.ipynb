{
  "nbformat": 4,
  "nbformat_minor": 0,
  "metadata": {
    "colab": {
      "provenance": [],
      "authorship_tag": "ABX9TyO/AXzlPjVu5Reapd2Hh69C",
      "include_colab_link": true
    },
    "kernelspec": {
      "name": "python3",
      "display_name": "Python 3"
    },
    "language_info": {
      "name": "python"
    }
  },
  "cells": [
    {
      "cell_type": "markdown",
      "metadata": {
        "id": "view-in-github",
        "colab_type": "text"
      },
      "source": [
        "<a href=\"https://colab.research.google.com/github/Masehanridegreecollege/Python-mini-project-/blob/main/Introduction_to_numpy.ipynb\" target=\"_parent\"><img src=\"https://colab.research.google.com/assets/colab-badge.svg\" alt=\"Open In Colab\"/></a>"
      ]
    },
    {
      "cell_type": "code",
      "execution_count": null,
      "metadata": {
        "id": "Mk3LgOuStUzz"
      },
      "outputs": [],
      "source": [
        "#Numpy-Number python\n",
        "#Most powerful package-Libarary\n",
        "\n",
        "#Numpy-Dimensions\n",
        "\n",
        "#A-One Dimensional Array\n",
        "#[A,B]|| [A \\\n",
        "#B]-Two Dimensional Array-Row||colum\n",
        "#Three Dimensional\n",
        "#Array-storing,Manipulating,similar Data type\n",
        "#Faster then any mathematical functions\n",
        "#convinient compared to other packages\n",
        "#Memory efficiency\n",
        "#support multi dimensional arras"
      ]
    },
    {
      "cell_type": "code",
      "source": [
        "#Install numpy-pip3 install numpy|| pip install numpy"
      ],
      "metadata": {
        "id": "R3OuJSQ-yq8r"
      },
      "execution_count": null,
      "outputs": []
    },
    {
      "cell_type": "code",
      "source": [
        "import numpy as np"
      ],
      "metadata": {
        "id": "CKxsfU-Uz2fR"
      },
      "execution_count": null,
      "outputs": []
    },
    {
      "cell_type": "code",
      "source": [
        "#create a numpy array\n",
        "#1D array\n",
        "arr1D=np.array([1,2,3,4,5])\n",
        "print (arr1D)"
      ],
      "metadata": {
        "colab": {
          "base_uri": "https://localhost:8080/"
        },
        "id": "MIwu8AYqz8RC",
        "outputId": "8644c69f-b6c0-4024-ae76-b18dcf6094c3"
      },
      "execution_count": null,
      "outputs": [
        {
          "output_type": "stream",
          "name": "stdout",
          "text": [
            "[1 2 3 4 5]\n"
          ]
        }
      ]
    },
    {
      "cell_type": "code",
      "source": [
        "#creating 2D array-Matrix\n",
        "arr2D=np.array([\n",
        "     [0,0,0],[0,0,0]\n",
        "])\n",
        "print(arr2D)"
      ],
      "metadata": {
        "colab": {
          "base_uri": "https://localhost:8080/"
        },
        "id": "ZFWpC6jV1AXe",
        "outputId": "2c5b7a5f-e008-4af9-b370-5b5c86f4fd53"
      },
      "execution_count": null,
      "outputs": [
        {
          "output_type": "stream",
          "name": "stdout",
          "text": [
            "[[0 0 0]\n",
            " [0 0 0]]\n"
          ]
        }
      ]
    },
    {
      "cell_type": "code",
      "source": [
        "#creating arrays with default values\n",
        "\n",
        "allzeros=np.zeros((2,3))\n",
        "print(allzeros)"
      ],
      "metadata": {
        "colab": {
          "base_uri": "https://localhost:8080/"
        },
        "id": "erRYCrop188r",
        "outputId": "37ea90a4-93ac-4fe1-e49c-02079e7cfeff"
      },
      "execution_count": null,
      "outputs": [
        {
          "output_type": "stream",
          "name": "stdout",
          "text": [
            "[[0. 0. 0.]\n",
            " [0. 0. 0.]]\n"
          ]
        }
      ]
    },
    {
      "cell_type": "code",
      "source": [
        "#creating matrix with all values of elements as'1'\n",
        "allones=np.ones((2,3))\n",
        "print(allones)"
      ],
      "metadata": {
        "colab": {
          "base_uri": "https://localhost:8080/"
        },
        "id": "7Nmbxv3-2gN1",
        "outputId": "9b5bfa9a-16da-40d5-dbdd-74a47d0e8200"
      },
      "execution_count": null,
      "outputs": [
        {
          "output_type": "stream",
          "name": "stdout",
          "text": [
            "[[1. 1. 1.]\n",
            " [1. 1. 1.]]\n"
          ]
        }
      ]
    },
    {
      "cell_type": "code",
      "source": [
        "#creating matrix with all values of elements\n",
        "'constant value-n~full value'\n",
        "allconstant=np.full((2,3),6)\n",
        "print(allconstant)"
      ],
      "metadata": {
        "colab": {
          "base_uri": "https://localhost:8080/"
        },
        "id": "Asy0yzyM3ByX",
        "outputId": "a3b82ab2-5c82-4caa-c3db-5096b6c3e585"
      },
      "execution_count": null,
      "outputs": [
        {
          "output_type": "stream",
          "name": "stdout",
          "text": [
            "[[6 6 6]\n",
            " [6 6 6]]\n"
          ]
        }
      ]
    },
    {
      "cell_type": "code",
      "source": [
        "#creating an identity matrix -I-squer matrix\n",
        "\n",
        "identity =np.eye(4)\n",
        "print(identity)"
      ],
      "metadata": {
        "colab": {
          "base_uri": "https://localhost:8080/"
        },
        "id": "7U-8i4BO35fp",
        "outputId": "3f8541f7-b8f6-4b70-e2d0-3703eea155dc"
      },
      "execution_count": null,
      "outputs": [
        {
          "output_type": "stream",
          "name": "stdout",
          "text": [
            "[[1. 0. 0. 0.]\n",
            " [0. 1. 0. 0.]\n",
            " [0. 0. 1. 0.]\n",
            " [0. 0. 0. 1.]]\n"
          ]
        }
      ]
    },
    {
      "cell_type": "code",
      "source": [
        "#Identity Matrix - Aii= 1 && Aij=0\n",
        "#For all A Belongs to R MxN\n",
        "#Aij-"
      ],
      "metadata": {
        "id": "4ro0JzDI4kh_"
      },
      "execution_count": null,
      "outputs": []
    },
    {
      "cell_type": "code",
      "source": [
        "#creating random Matrices\n",
        "\n",
        "#between 0and1\n",
        "rand1=np.random.rand(3,3) #changed ran1 to rand1\n",
        "print(rand1)\n",
        "#between aandb\n",
        "rand2 =np.random.randint(10,20,(33))\n",
        "print(rand2)"
      ],
      "metadata": {
        "colab": {
          "base_uri": "https://localhost:8080/"
        },
        "id": "RpKYPVke5F9P",
        "outputId": "e660c218-aa4e-41ce-83a2-bc1d6eb2d195"
      },
      "execution_count": null,
      "outputs": [
        {
          "output_type": "stream",
          "name": "stdout",
          "text": [
            "[[0.92588703 0.03720903 0.36052286]\n",
            " [0.1280249  0.90844615 0.34495227]\n",
            " [0.4918007  0.17127374 0.81341383]]\n",
            "[17 15 17 14 13 15 10 12 13 10 17 16 15 11 15 17 17 11 10 10 10 18 19 14\n",
            " 16 18 17 13 18 19 19 15 13]\n"
          ]
        }
      ]
    },
    {
      "cell_type": "code",
      "source": [
        "#Array properties\n",
        "arr=np.array([ [1,2,3,4],[2,3,4,5]])\n",
        "print(arr)\n",
        "\n",
        "# shape or array\n",
        "print(f'\\The shape of the array is({arr.shape}')\n",
        "#size of array\n",
        "print(f'The size of the array is{arr.size}')\n",
        "#Data type of array\n",
        "print(f'The Data type of the array is{arr.dtype}')\n",
        "#Dimensions of array\n",
        "print(f'The Dimensions of the array is{arr.ndim}')"
      ],
      "metadata": {
        "id": "3yCJ6Alf6qVr",
        "colab": {
          "base_uri": "https://localhost:8080/"
        },
        "outputId": "9da477ef-6f4f-498a-e8bb-342ecfe009c4"
      },
      "execution_count": null,
      "outputs": [
        {
          "output_type": "stream",
          "name": "stdout",
          "text": [
            "[[1 2 3 4]\n",
            " [2 3 4 5]]\n",
            "\\The shape of the array is((2, 4)\n",
            "The size of the array is8\n",
            "The Data type of the array isint64\n",
            "The Dimensions of the array is2\n"
          ]
        }
      ]
    },
    {
      "cell_type": "code",
      "source": [
        "#Indexing and slicing\n",
        "\n",
        "#Access the elements in 1D Array\n",
        "\n",
        "arr=np. array([1,2,3,4])\n",
        "print(arr)\n",
        "print(arr[3])\n",
        "\n",
        "#slicing the elements\n",
        "print(arr[0:3])\n",
        "\n",
        "#Access the element in 2D array\n",
        "arr2=np.array([[1,2,3],[2,3,4]])\n",
        "print(arr2)\n",
        "print(arr2[1,1])\n",
        "print(arr2[0,:])#frist row with  all columns\n",
        "print(arr2[:,0])#frist column with all tows"
      ],
      "metadata": {
        "colab": {
          "base_uri": "https://localhost:8080/"
        },
        "id": "2hHSNwUz_xaq",
        "outputId": "fe281e69-1b31-4d37-b553-25d8c08769d4"
      },
      "execution_count": null,
      "outputs": [
        {
          "output_type": "stream",
          "name": "stdout",
          "text": [
            "[1 2 3 4]\n",
            "4\n",
            "[1 2 3]\n",
            "[[1 2 3]\n",
            " [2 3 4]]\n",
            "3\n",
            "[1 2 3]\n",
            "[1 2]\n"
          ]
        }
      ]
    },
    {
      "cell_type": "code",
      "source": [
        "#l1=[]\n",
        "# [l1.append(_) for_in range(10)]\n",
        "\n",
        "l1=np.arange(10,-10,-1)\n",
        "\n",
        "print(l1)"
      ],
      "metadata": {
        "colab": {
          "base_uri": "https://localhost:8080/"
        },
        "id": "LXWSAseIDn6W",
        "outputId": "62956ad5-a8f1-4f38-96f3-920f4d1c3f2c"
      },
      "execution_count": null,
      "outputs": [
        {
          "output_type": "stream",
          "name": "stdout",
          "text": [
            "[10  9  8  7  6  5  4  3  2  1  0 -1 -2 -3 -4 -5 -6 -7 -8 -9]\n"
          ]
        }
      ]
    },
    {
      "cell_type": "code",
      "source": [
        "#Mathematical operations\n",
        "\n",
        "a=np.array([1,2,3])\n",
        "b=np.array([3,4,5])\n",
        "\n",
        "print(f'The sum of a and b is {a+b}')\n",
        "print(f'The diff of a and b is {a-b}')\n",
        "print(f'The product of a and b is {a*b}')\n",
        "print(f'The division of a and b is {a/b}')"
      ],
      "metadata": {
        "colab": {
          "base_uri": "https://localhost:8080/"
        },
        "id": "WbsFWlj7Fq3s",
        "outputId": "47a88df5-5afc-43d8-9b68-203f1a10a0b2"
      },
      "execution_count": null,
      "outputs": [
        {
          "output_type": "stream",
          "name": "stdout",
          "text": [
            "The sum of a and b is [4 6 8]\n",
            "The diff of a and b is [-2 -2 -2]\n",
            "The product of a and b is [ 3  8 15]\n",
            "The division of a and b is [0.33333333 0.5        0.6       ]\n"
          ]
        }
      ]
    },
    {
      "cell_type": "code",
      "source": [
        "#Matrix multiplication\n",
        "b1=np.array([[1,2,3],[2,3,4]])\n",
        "b2=np.array([[5,6],[7,8],[1,3]])\n",
        "\n",
        "#Dot product   ___ product=AB __ A m × n __ B n × p\n",
        "C=np.dot(b1,b2)\n",
        "print(C)"
      ],
      "metadata": {
        "colab": {
          "base_uri": "https://localhost:8080/"
        },
        "id": "sWU86dj3Fv4S",
        "outputId": "f7c46cd9-874f-4b85-86b4-482366c3797b"
      },
      "execution_count": null,
      "outputs": [
        {
          "output_type": "stream",
          "name": "stdout",
          "text": [
            "[[22 31]\n",
            " [35 48]]\n"
          ]
        }
      ]
    },
    {
      "cell_type": "code",
      "source": [
        "print(b1)"
      ],
      "metadata": {
        "colab": {
          "base_uri": "https://localhost:8080/"
        },
        "id": "F4MGD64iGD3c",
        "outputId": "b0618ec0-c6f4-4477-b223-79e986cf3457"
      },
      "execution_count": null,
      "outputs": [
        {
          "output_type": "stream",
          "name": "stdout",
          "text": [
            "[[1 2 3]\n",
            " [2 3 4]]\n"
          ]
        }
      ]
    },
    {
      "cell_type": "code",
      "source": [
        "print(b2)"
      ],
      "metadata": {
        "colab": {
          "base_uri": "https://localhost:8080/"
        },
        "id": "tVcxH16oGUmj",
        "outputId": "bf8db29c-ed3f-4132-ff4f-de0d099936b8"
      },
      "execution_count": null,
      "outputs": [
        {
          "output_type": "stream",
          "name": "stdout",
          "text": [
            "[[5 6]\n",
            " [7 8]\n",
            " [1 3]]\n"
          ]
        }
      ]
    },
    {
      "cell_type": "code",
      "source": [
        "[\n",
        "  [22,31],\n",
        "  [35,48]\n",
        "]"
      ],
      "metadata": {
        "colab": {
          "base_uri": "https://localhost:8080/"
        },
        "id": "slw9wmOMGYzr",
        "outputId": "f3061305-a237-49b2-ef65-8d50f01ca9e2"
      },
      "execution_count": null,
      "outputs": [
        {
          "output_type": "execute_result",
          "data": {
            "text/plain": [
              "[[22, 31], [35, 48]]"
            ]
          },
          "metadata": {},
          "execution_count": 36
        }
      ]
    },
    {
      "cell_type": "code",
      "source": [
        "import numpy as np"
      ],
      "metadata": {
        "id": "9N6BQo_Z3aZ7"
      },
      "execution_count": null,
      "outputs": []
    },
    {
      "cell_type": "code",
      "source": [
        "# Recap\n",
        "arr=np.array([[1,2,3],[4,5,6]])"
      ],
      "metadata": {
        "id": "TMtX4T1g3dWN"
      },
      "execution_count": null,
      "outputs": []
    },
    {
      "cell_type": "code",
      "source": [
        "type(arr)"
      ],
      "metadata": {
        "colab": {
          "base_uri": "https://localhost:8080/"
        },
        "id": "vMY8_WV93zFH",
        "outputId": "b69161e9-f1a0-4693-e8a3-bb8e198c208f"
      },
      "execution_count": null,
      "outputs": [
        {
          "output_type": "execute_result",
          "data": {
            "text/plain": [
              "numpy.ndarray"
            ]
          },
          "metadata": {},
          "execution_count": 5
        }
      ]
    },
    {
      "cell_type": "code",
      "source": [
        "#Dot product-mxn||nxp\n",
        "arr1=np.random.randint(1,2,(3,1))"
      ],
      "metadata": {
        "id": "NTNAQDGn33SD"
      },
      "execution_count": null,
      "outputs": []
    },
    {
      "cell_type": "code",
      "source": [
        "arr1.shape"
      ],
      "metadata": {
        "colab": {
          "base_uri": "https://localhost:8080/"
        },
        "id": "IN81iJS76qZP",
        "outputId": "899fc4db-94e7-4c67-880f-a592571ac39d"
      },
      "execution_count": null,
      "outputs": [
        {
          "output_type": "execute_result",
          "data": {
            "text/plain": [
              "(3, 1)"
            ]
          },
          "metadata": {},
          "execution_count": 13
        }
      ]
    },
    {
      "cell_type": "code",
      "source": [
        "arr.shape\n",
        "arr1.shape"
      ],
      "metadata": {
        "id": "fQpA98_34i8p",
        "outputId": "889e1e7f-90bc-4fd6-bfeb-2b451725afa0",
        "colab": {
          "base_uri": "https://localhost:8080/"
        }
      },
      "execution_count": null,
      "outputs": [
        {
          "output_type": "execute_result",
          "data": {
            "text/plain": [
              "(3, 1)"
            ]
          },
          "metadata": {},
          "execution_count": 7
        }
      ]
    },
    {
      "cell_type": "code",
      "source": [
        "result=np.dot(arr,arr1)"
      ],
      "metadata": {
        "id": "vHVkaam14_wy"
      },
      "execution_count": null,
      "outputs": []
    },
    {
      "cell_type": "code",
      "source": [
        "print(result)"
      ],
      "metadata": {
        "colab": {
          "base_uri": "https://localhost:8080/"
        },
        "id": "jO1K_wx25rZG",
        "outputId": "bea99ca8-1044-42f2-b8f9-1cee085a1c81"
      },
      "execution_count": null,
      "outputs": [
        {
          "output_type": "stream",
          "name": "stdout",
          "text": [
            "[[ 6]\n",
            " [15]]\n"
          ]
        }
      ]
    },
    {
      "cell_type": "code",
      "source": [
        "r1 = np.random.randint(10,20,(3,3))\n",
        "print(r1)"
      ],
      "metadata": {
        "colab": {
          "base_uri": "https://localhost:8080/"
        },
        "id": "YR2SAjAI6w6f",
        "outputId": "54c42378-549b-4b1b-e158-5e48e6b786bc"
      },
      "execution_count": null,
      "outputs": [
        {
          "output_type": "stream",
          "name": "stdout",
          "text": [
            "[[10 16 18]\n",
            " [12 14 13]\n",
            " [17 19 15]]\n"
          ]
        }
      ]
    },
    {
      "cell_type": "code",
      "source": [
        "r2=np.eye(3)\n",
        "print(r2)"
      ],
      "metadata": {
        "colab": {
          "base_uri": "https://localhost:8080/"
        },
        "id": "gt2VD7FL8QqW",
        "outputId": "490d5314-b9ca-4705-eb11-484481fd0e39"
      },
      "execution_count": null,
      "outputs": [
        {
          "output_type": "stream",
          "name": "stdout",
          "text": [
            "[[1. 0. 0.]\n",
            " [0. 1. 0.]\n",
            " [0. 0. 1.]]\n"
          ]
        }
      ]
    },
    {
      "cell_type": "code",
      "source": [
        "#r2.I\n",
        "result2=np.dot(r1,r2)"
      ],
      "metadata": {
        "id": "5vYojDKP8dF0"
      },
      "execution_count": null,
      "outputs": []
    },
    {
      "cell_type": "code",
      "source": [
        "print(result2)"
      ],
      "metadata": {
        "colab": {
          "base_uri": "https://localhost:8080/"
        },
        "id": "9-m_yd_o85W7",
        "outputId": "b4d36f6e-1df9-4b06-c3e5-7d2d8cee2c99"
      },
      "execution_count": null,
      "outputs": [
        {
          "output_type": "stream",
          "name": "stdout",
          "text": [
            "[[10. 16. 18.]\n",
            " [12. 14. 13.]\n",
            " [17. 19. 15.]]\n"
          ]
        }
      ]
    },
    {
      "cell_type": "code",
      "source": [
        "#M.I=I.M=I"
      ],
      "metadata": {
        "id": "KXBkd_TL89GR"
      },
      "execution_count": null,
      "outputs": []
    },
    {
      "cell_type": "code",
      "source": [
        "#A.B!=B.A"
      ],
      "metadata": {
        "id": "_dvK3Wqc9LEs"
      },
      "execution_count": null,
      "outputs": []
    },
    {
      "cell_type": "code",
      "source": [
        "#Mathematical operations\n",
        "# +-*/\n",
        "t1=np.random.randint(3,6,(3,3))\n",
        "t2=np.random.randint(3,6,(3,3))"
      ],
      "metadata": {
        "id": "w-RWLXTo9SB3"
      },
      "execution_count": null,
      "outputs": []
    },
    {
      "cell_type": "code",
      "source": [
        "print(t1)\n",
        "print(t2)"
      ],
      "metadata": {
        "colab": {
          "base_uri": "https://localhost:8080/"
        },
        "id": "DEYLlWo291sP",
        "outputId": "0d309392-d02a-499d-ee4f-c74d54b00634"
      },
      "execution_count": null,
      "outputs": [
        {
          "output_type": "stream",
          "name": "stdout",
          "text": [
            "[[5 5 3]\n",
            " [3 3 5]\n",
            " [5 5 4]]\n",
            "[[5 3 4]\n",
            " [3 3 3]\n",
            " [5 5 4]]\n"
          ]
        }
      ]
    },
    {
      "cell_type": "code",
      "source": [
        "t3=t1+t2"
      ],
      "metadata": {
        "id": "8PYIE9_A-Z7y"
      },
      "execution_count": null,
      "outputs": []
    },
    {
      "cell_type": "code",
      "source": [
        "#Matrix multiplication\n",
        "result=np.dot(arr,arr1)"
      ],
      "metadata": {
        "id": "p_CPMB9m-pDI"
      },
      "execution_count": null,
      "outputs": []
    },
    {
      "cell_type": "code",
      "source": [
        "#Statistics operations\n",
        "mean=t3.mean()\n",
        "mode=t3.max()\n",
        "median=np.median(t3)\n",
        "std=np.std(t3)\n",
        "var=np.var(t3)"
      ],
      "metadata": {
        "id": "b74EYJow_dAn"
      },
      "execution_count": null,
      "outputs": []
    },
    {
      "cell_type": "code",
      "source": [
        "print(mean)"
      ],
      "metadata": {
        "colab": {
          "base_uri": "https://localhost:8080/"
        },
        "id": "E98XXW0pAghZ",
        "outputId": "7dc265a5-bbcd-4406-ac24-8df5915c54cf"
      },
      "execution_count": null,
      "outputs": [
        {
          "output_type": "stream",
          "name": "stdout",
          "text": [
            "8.11111111111111\n"
          ]
        }
      ]
    },
    {
      "cell_type": "code",
      "source": [
        "print(max)"
      ],
      "metadata": {
        "colab": {
          "base_uri": "https://localhost:8080/"
        },
        "id": "mSZQA2z3Bnk5",
        "outputId": "d52e776d-e160-4291-d518-bc9461a217ab"
      },
      "execution_count": null,
      "outputs": [
        {
          "output_type": "stream",
          "name": "stdout",
          "text": [
            "<built-in function max>\n"
          ]
        }
      ]
    },
    {
      "cell_type": "code",
      "source": [
        "print(median)"
      ],
      "metadata": {
        "colab": {
          "base_uri": "https://localhost:8080/"
        },
        "id": "0V0WLG0_Cf0C",
        "outputId": "c10ca4c0-ebd6-45ae-ba9b-79f3f1da6a6c"
      },
      "execution_count": null,
      "outputs": [
        {
          "output_type": "stream",
          "name": "stdout",
          "text": [
            "8.0\n"
          ]
        }
      ]
    },
    {
      "cell_type": "code",
      "source": [
        "print(std)"
      ],
      "metadata": {
        "colab": {
          "base_uri": "https://localhost:8080/"
        },
        "id": "FGt7muDkCk8q",
        "outputId": "4b712483-129f-49d3-9950-6dabce7568c3"
      },
      "execution_count": null,
      "outputs": [
        {
          "output_type": "stream",
          "name": "stdout",
          "text": [
            "1.5234788000891208\n"
          ]
        }
      ]
    },
    {
      "cell_type": "code",
      "source": [
        "print(var)"
      ],
      "metadata": {
        "colab": {
          "base_uri": "https://localhost:8080/"
        },
        "id": "TGizx5EXCsCZ",
        "outputId": "f983073d-0989-4aee-bc53-9cfbd6da52c5"
      },
      "execution_count": null,
      "outputs": [
        {
          "output_type": "stream",
          "name": "stdout",
          "text": [
            "2.3209876543209877\n"
          ]
        }
      ]
    },
    {
      "cell_type": "code",
      "source": [
        "std*std"
      ],
      "metadata": {
        "colab": {
          "base_uri": "https://localhost:8080/"
        },
        "id": "YuQAZ2ftCvmZ",
        "outputId": "ef1f94e6-1f7f-415e-d96e-34042fb44891"
      },
      "execution_count": null,
      "outputs": [
        {
          "output_type": "execute_result",
          "data": {
            "text/plain": [
              "2.3209876543209873"
            ]
          },
          "metadata": {},
          "execution_count": 42
        }
      ]
    },
    {
      "cell_type": "code",
      "source": [
        "#Trignometry functions\n",
        "#Sin(x)\n",
        "#Cos(x)\n",
        "#Tan(x)-sin(x)/cos(x)\n",
        "#Cosec-1/sin(x)\n",
        "#Sec-1/cos(x)\n",
        "#Cot-1/Tan(x)\n",
        "#\n",
        "angles=np.array([0,15,30,45,60,75,90])\n",
        "#sin(array)\n",
        "result=np.sin(np.radians(angles))\n",
        "result1=np.cos(np.radians(angles))\n",
        "result2=np.tan(np.radians(angles))"
      ],
      "metadata": {
        "id": "7EhCpz3OCy46"
      },
      "execution_count": null,
      "outputs": []
    },
    {
      "cell_type": "code",
      "source": [
        "arr=np.array([1,2,3,4,5,6])\n",
        "#Reshape the array\n",
        "reshapeedarr=arr.reshape(2,3)\n",
        "print(reshapeedarr)\n",
        "#convert/flatten any n dim array\n",
        "flattendarr=arr.flatten()\n",
        "print(flattendarr)"
      ],
      "metadata": {
        "colab": {
          "base_uri": "https://localhost:8080/"
        },
        "id": "EdrUgjCwHWhT",
        "outputId": "6c053854-75c9-4baf-882b-4e9bcd026505"
      },
      "execution_count": null,
      "outputs": [
        {
          "output_type": "stream",
          "name": "stdout",
          "text": [
            "[[1 2 3]\n",
            " [4 5 6]]\n",
            "[1 2 3 4 5 6]\n"
          ]
        }
      ]
    },
    {
      "cell_type": "code",
      "source": [
        "#Stacking the data\n",
        "\n",
        "arr1=np.array([1,2,3,4])\n",
        "arr2=np.array([10,20,30,40])\n",
        "\n",
        "#vertical  stacking\n",
        "arr3=np.vstack((arr1,arr2))\n",
        "print(f\"The shape of arr3 is {arr3.shape}\")\n",
        "\n",
        "#Horizontal stacking\n",
        "arr4=np.hstack((arr1,arr2))\n",
        "print(f\"The shape of arr4 is {arr4.shape}\")\n",
        "print(arr4)"
      ],
      "metadata": {
        "colab": {
          "base_uri": "https://localhost:8080/"
        },
        "id": "WAYfh4AyItGu",
        "outputId": "286a3cdb-0ba5-430e-c196-c7440429fc68"
      },
      "execution_count": null,
      "outputs": [
        {
          "output_type": "stream",
          "name": "stdout",
          "text": [
            "The shape of arr3 is (2, 4)\n",
            "The shape of arr4 is (8,)\n",
            "[ 1  2  3  4 10 20 30 40]\n"
          ]
        }
      ]
    },
    {
      "cell_type": "code",
      "source": [
        "#filtaring\n",
        "arr=np.array([10,20,30,40,50])\n",
        "farr=arr[arr<40]\n",
        "print(farr)"
      ],
      "metadata": {
        "colab": {
          "base_uri": "https://localhost:8080/"
        },
        "id": "FwdRKYAsLbKj",
        "outputId": "9cadb793-a149-454c-b7a8-a4222bacdd5d"
      },
      "execution_count": null,
      "outputs": [
        {
          "output_type": "stream",
          "name": "stdout",
          "text": [
            "[10 20 30]\n"
          ]
        }
      ]
    }
  ]
}