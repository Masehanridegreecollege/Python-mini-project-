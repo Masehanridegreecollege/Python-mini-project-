{
  "nbformat": 4,
  "nbformat_minor": 0,
  "metadata": {
    "colab": {
      "provenance": [],
      "authorship_tag": "ABX9TyPxY1c0Dj8UYzT1Nnm38xS+",
      "include_colab_link": true
    },
    "kernelspec": {
      "name": "python3",
      "display_name": "Python 3"
    },
    "language_info": {
      "name": "python"
    }
  },
  "cells": [
    {
      "cell_type": "markdown",
      "metadata": {
        "id": "view-in-github",
        "colab_type": "text"
      },
      "source": [
        "<a href=\"https://colab.research.google.com/github/Masehanridegreecollege/Python-mini-project-/blob/main/Number_Guessing_Game.ipynb\" target=\"_parent\"><img src=\"https://colab.research.google.com/assets/colab-badge.svg\" alt=\"Open In Colab\"/></a>"
      ]
    },
    {
      "cell_type": "code",
      "execution_count": 1,
      "metadata": {
        "colab": {
          "base_uri": "https://localhost:8080/"
        },
        "id": "X2HH5LPXxSvL",
        "outputId": "8f19abc9-d53e-4d78-c93e-6b1010019e91"
      },
      "outputs": [
        {
          "output_type": "stream",
          "name": "stdout",
          "text": [
            " hi,welcome to number guessing game\n",
            "I am using 1to20 number can I guess?\n",
            " enter guess11\n",
            "your guess is wrong\n",
            " enter guess12\n",
            "your guess is wrong\n",
            " enter guess3\n",
            "your guess is wrong\n",
            " enter guess4\n",
            "your guess is wrong\n",
            " enter guess10\n",
            "your guess is wrong\n",
            " enter guess15\n",
            "your guess is wrong\n",
            " enter guess14\n",
            "your guess is wrong\n",
            " enter guess13\n",
            "your guess is wrong\n",
            " enter guess1\n",
            "your guess is wrong\n",
            " enter guess2\n",
            "your guess is wrong\n",
            " enter guess5\n",
            "your guess is wrong\n",
            " enter guess6\n",
            "your guess is right\n"
          ]
        }
      ],
      "source": [
        "import random\n",
        "print(\" hi,welcome to number guessing game\")\n",
        "print(\"I am using 1to20 number can I guess?\")\n",
        "# generate a randam number between 1 to 20\n",
        "readnumber=random.randint(1,20)\n",
        "#initialization variable\n",
        "value=True\n",
        "while value:\n",
        "    userinput=int(input(\" enter guess\"))\n",
        "    if(userinput==readnumber):\n",
        "        print(\"your guess is right\")\n",
        "        value=False\n",
        "    else:\n",
        "        print(\"your guess is wrong\")"
      ]
    },
    {
      "cell_type": "code",
      "source": [],
      "metadata": {
        "id": "j55Qdtv-z66g"
      },
      "execution_count": null,
      "outputs": []
    }
  ]
}