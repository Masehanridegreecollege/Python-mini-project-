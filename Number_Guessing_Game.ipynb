{
  "nbformat": 4,
  "nbformat_minor": 0,
  "metadata": {
    "colab": {
      "provenance": [],
      "authorship_tag": "ABX9TyPxY1c0Dj8UYzT1Nnm38xS+",
      "include_colab_link": true
    },
    "kernelspec": {
      "name": "python3",
      "display_name": "Python 3"
    },
    "language_info": {
      "name": "python"
    }
  },
  "cells": [
    {
      "cell_type": "markdown",
      "metadata": {
        "id": "view-in-github",
        "colab_type": "text"
      },
      "source": [
        "<a href=\"https://colab.research.google.com/github/Masehanridegreecollege/Python-mini-project-/blob/main/Number_Guessing_Game.ipynb\" target=\"_parent\"><img src=\"https://colab.research.google.com/assets/colab-badge.svg\" alt=\"Open In Colab\"/></a>"
      ]
    },
    {
      "cell_type": "code",
      "execution_count": null,
      "metadata": {
        "colab": {
          "base_uri": "https://localhost:8080/"
        },
        "id": "X2HH5LPXxSvL",
        "outputId": "3fe9e087-8537-48c0-cad7-beb5aa68dcbf"
      },
      "outputs": [
        {
          "output_type": "stream",
          "name": "stdout",
          "text": [
            " hi,welcome to number guessing game\n",
            "I am using 1to20 number can I guess?\n",
            " enter guess2\n",
            "your guess is wrong\n",
            " enter guess7\n",
            "your guess is wrong\n",
            " enter guess4\n",
            "your guess is wrong\n",
            " enter guess10\n",
            "your guess is wrong\n",
            " enter guess1\n",
            "your guess is wrong\n",
            " enter guess3\n",
            "your guess is wrong\n",
            " enter guess4\n",
            "your guess is wrong\n",
            " enter guess5\n",
            "your guess is wrong\n",
            " enter guess6\n",
            "your guess is wrong\n",
            " enter guess14\n",
            "your guess is wrong\n",
            " enter guess20\n",
            "your guess is wrong\n",
            " enter guess16\n",
            "your guess is wrong\n",
            " enter guess11\n",
            "your guess is wrong\n",
            " enter guess19\n",
            "your guess is wrong\n",
            " enter guess28\n",
            "your guess is wrong\n",
            " enter guess18\n",
            "your guess is wrong\n",
            " enter guess17\n",
            "your guess is wrong\n",
            " enter guess16\n",
            "your guess is wrong\n",
            " enter guess25\n",
            "your guess is wrong\n",
            " enter guess8\n",
            "your guess is wrong\n",
            " enter guess9\n",
            "your guess is wrong\n",
            " enter guess10\n",
            "your guess is wrong\n",
            " enter guess11\n",
            "your guess is wrong\n",
            " enter guess12\n",
            "your guess is wrong\n",
            " enter guess13\n",
            "your guess is right\n"
          ]
        }
      ],
      "source": [
        "import random\n",
        "print(\" hi,welcome to number guessing game\")\n",
        "print(\"I am using 1to20 number can I guess?\")\n",
        "# generate a randam number between 1 to 20\n",
        "readnumber=random.randint(1,20)\n",
        "#initialization variable\n",
        "value=True\n",
        "while value:\n",
        "    userinput=int(input(\" enter guess\"))\n",
        "    if(userinput==readnumber):\n",
        "        print(\"your guess is right\")\n",
        "        value=False\n",
        "    else:\n",
        "        print(\"your guess is wrong\")"
      ]
    },
    {
      "cell_type": "code",
      "source": [],
      "metadata": {
        "id": "j55Qdtv-z66g"
      },
      "execution_count": null,
      "outputs": []
    }
  ]
}